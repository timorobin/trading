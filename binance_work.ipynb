{
 "cells": [
  {
   "cell_type": "markdown",
   "metadata": {},
   "source": [
    "# Working with Binance API\n",
    "- https://python-binance.readthedocs.io/en/latest/overview.html"
   ]
  },
  {
   "cell_type": "code",
   "execution_count": 1,
   "metadata": {},
   "outputs": [],
   "source": [
    "import datetime as dt\n",
    "import os\n",
    "import numpy as np, pandas as pd, matplotlib.pyplot as plt\n",
    "import dateparser\n",
    "\n",
    "import math\n",
    "import matplotlib.pyplot as plt\n",
    "from binance.client import Client\n",
    "\n",
    "from trading.websockets.binance import listener"
   ]
  },
  {
   "cell_type": "markdown",
   "metadata": {},
   "source": [
    "# making a websocket system that writes to mongo"
   ]
  },
  {
   "cell_type": "code",
   "execution_count": 2,
   "metadata": {},
   "outputs": [],
   "source": [
    "API_PUBLIC = os.environ.get(\"B_PUBLIC_KEY\")\n",
    "API_SECRET = os.environ.get(\"B_SECRET_KEY\")\n",
    "binance_client = Client(API_PUBLIC, API_SECRET)"
   ]
  },
  {
   "cell_type": "code",
   "execution_count": 3,
   "metadata": {},
   "outputs": [],
   "source": [
    "info = binance_client.get_exchange_info()\n",
    "symbols = [s[\"symbol\"] for s in info[\"symbols\"]]"
   ]
  },
  {
   "cell_type": "code",
   "execution_count": 4,
   "metadata": {},
   "outputs": [],
   "source": [
    "symbols = [\"ADABTC\", \"LINKBTC\", \"ETHBTC\", \"BNBBTC\"]\n",
    "db_name = \"trading_data\"\n",
    "l = listener.Listener(binance_client, symbols[3], db_name)\n",
    "# listeners = [\n",
    "#     listener.Listener(binance_client, symbol, db_name)\n",
    "#     for symbol in symbols\n",
    "# ]\n",
    "# for l in listeners:\n",
    "#     l.make_websocket()\n",
    "#     l.start_stream()"
   ]
  },
  {
   "cell_type": "code",
   "execution_count": 5,
   "metadata": {},
   "outputs": [],
   "source": [
    "l.make_websocket()\n",
    "l.start_stream()"
   ]
  },
  {
   "cell_type": "code",
   "execution_count": null,
   "metadata": {},
   "outputs": [],
   "source": [
    "l.close_socket()"
   ]
  },
  {
   "cell_type": "code",
   "execution_count": null,
   "metadata": {},
   "outputs": [],
   "source": [
    "from trading.database.data_point import DataPoint"
   ]
  },
  {
   "cell_type": "code",
   "execution_count": null,
   "metadata": {},
   "outputs": [],
   "source": [
    "from mongoengine.connection import _get_db\n",
    "db = _get_db()\n",
    "db.drop_collection(\"datapoints\")"
   ]
  },
  {
   "cell_type": "code",
   "execution_count": null,
   "metadata": {},
   "outputs": [],
   "source": [
    "DataPoint.objects.filter(event_type=\"trade\")[0]._data"
   ]
  },
  {
   "cell_type": "code",
   "execution_count": null,
   "metadata": {},
   "outputs": [],
   "source": [
    "dcm.close()"
   ]
  },
  {
   "cell_type": "code",
   "execution_count": null,
   "metadata": {},
   "outputs": [],
   "source": [
    "DepthCacheManager?"
   ]
  },
  {
   "cell_type": "code",
   "execution_count": null,
   "metadata": {},
   "outputs": [],
   "source": [
    "dcm = DepthCacheManager(binance_client, eth_sym, callback=lambda msg: None, bm=l.bm)"
   ]
  },
  {
   "cell_type": "code",
   "execution_count": null,
   "metadata": {},
   "outputs": [],
   "source": [
    "a= {\n",
    "    'stream': 'ethbtc@depth10@1000ms', \n",
    "    'data': {\n",
    "        'lastUpdateId': 2097409972, \n",
    "        'bids': [\n",
    "            ['0.03275700', '0.57100000'], \n",
    "            ['0.03275600', '2.50400000'], \n",
    "            ['0.03275400', '0.21300000'], \n",
    "            ['0.03275300', '0.52500000'], \n",
    "            ['0.03275200', '2.50000000'], \n",
    "            ['0.03275100', '1.00000000'], \n",
    "            ['0.03275000', '5.62200000'], \n",
    "            ['0.03274600', '4.60000000'], \n",
    "            ['0.03274500', '1.07800000'], \n",
    "            ['0.03274300', '1.59200000']\n",
    "        ],\n",
    "        'asks': [\n",
    "            ['0.03275800', '26.27500000'], \n",
    "            ['0.03276100', '6.42900000'], \n",
    "            ['0.03276200', '31.36000000'], \n",
    "            ['0.03276300', '55.30000000'], \n",
    "            ['0.03276400', '0.16800000'], \n",
    "            ['0.03276600', '4.10000000'], \n",
    "            ['0.03276700', '37.40500000'], \n",
    "            ['0.03276800', '3.05200000'], \n",
    "            ['0.03277600', '0.29800000'], \n",
    "            ['0.03277700', '3.35200000']\n",
    "        ]\n",
    "    }\n",
    "}"
   ]
  },
  {
   "cell_type": "code",
   "execution_count": null,
   "metadata": {},
   "outputs": [],
   "source": []
  },
  {
   "cell_type": "code",
   "execution_count": null,
   "metadata": {},
   "outputs": [],
   "source": [
    "from trading.websockets.binance import utils"
   ]
  },
  {
   "cell_type": "code",
   "execution_count": null,
   "metadata": {},
   "outputs": [],
   "source": [
    "utils.process_trade_message(a)"
   ]
  },
  {
   "cell_type": "code",
   "execution_count": null,
   "metadata": {},
   "outputs": [],
   "source": [
    "{\n",
    "  \"e\": \"trade\",     # Event type\n",
    "  \"E\": 123456789,   # Event time\n",
    "  \"s\": \"BNBBTC\",    # Symbol\n",
    "  \"t\": 12345,       # Trade ID\n",
    "  \"p\": \"0.001\",     # Price\n",
    "  \"q\": \"100\",       # Quantity\n",
    "  \"b\": 88,          # Buyer order ID\n",
    "  \"a\": 50,          # Seller order ID\n",
    "  \"T\": 123456785,   # Trade time\n",
    "  \"m\": true,        # Is the buyer the market maker?\n",
    "  \"M\": true         # Ignore\n",
    "}"
   ]
  },
  {
   "cell_type": "code",
   "execution_count": null,
   "metadata": {},
   "outputs": [],
   "source": [
    "l.start_stream()"
   ]
  },
  {
   "cell_type": "code",
   "execution_count": null,
   "metadata": {},
   "outputs": [],
   "source": [
    "l.close_stream()"
   ]
  },
  {
   "cell_type": "code",
   "execution_count": null,
   "metadata": {},
   "outputs": [],
   "source": [
    "l.conn_key"
   ]
  },
  {
   "cell_type": "code",
   "execution_count": null,
   "metadata": {},
   "outputs": [],
   "source": [
    "import datetime as dt\n",
    "from mongoengine import *\n",
    "\n",
    "class DataPoint(Document):\n",
    "    meta = {\n",
    "        \"collection\": \"datapoints\",\n",
    "        \"indexes\": [\"timestamp\"]\n",
    "    }\n",
    "    timestamp = DateTimeField(required=True)"
   ]
  },
  {
   "cell_type": "code",
   "execution_count": null,
   "metadata": {},
   "outputs": [],
   "source": [
    "from binance.websockets import BinanceSocketManager\n",
    "\n",
    "def open_websocket(client):\n",
    "    bm = BinanceSocketManager(client)\n",
    "    \n",
    "def get_depth_stream_str(symbol, depth=20, update_interval=\"100ms\"):\n",
    "    return f\"{symbol.lower()}@depth{depth}@{update_interval}\"\n",
    "\n",
    "def get_trade_stream_str(symbol):\n",
    "    return f\"{symbol.lower()}@trade\"\n",
    "\n",
    "def process_message(msg):\n",
    "    print(msg)\n",
    "\n",
    "def process_depth_cache(depth_cache):\n",
    "    print(\"symbol {}\".format(depth_cache.symbol))\n",
    "    print(\"top 5 bids\")\n",
    "    print(depth_cache.get_bids()[:5])\n",
    "    print(\"top 5 asks\")\n",
    "    print(depth_cache.get_asks()[:5])\n",
    "    print(\"last update time {}\".format(depth_cache.update_time))"
   ]
  },
  {
   "cell_type": "code",
   "execution_count": null,
   "metadata": {},
   "outputs": [],
   "source": []
  },
  {
   "cell_type": "code",
   "execution_count": null,
   "metadata": {},
   "outputs": [],
   "source": [
    "eth_sym = \"ETHBTC\"\n",
    "trade_stream_str = get_trade_stream_str(eth_sym)\n",
    "lob_stream_str = get_depth_stream_str(eth_sym)\n",
    "bm = BinanceSocketManager(binance_client)\n",
    "streams = [trade_stream_str, lob_stream_str]\n",
    "conn_key = bm.start_multiplex_socket(streams[1:], process_message)\n",
    "conn_key"
   ]
  },
  {
   "cell_type": "code",
   "execution_count": null,
   "metadata": {},
   "outputs": [],
   "source": [
    "bm.start()"
   ]
  },
  {
   "cell_type": "code",
   "execution_count": null,
   "metadata": {},
   "outputs": [],
   "source": [
    "bm.stop_socket(conn_key)\n",
    "bm.close()"
   ]
  },
  {
   "cell_type": "code",
   "execution_count": null,
   "metadata": {},
   "outputs": [],
   "source": [
    "API_PUBLIC = os.environ.get(\"B_PUBLIC_KEY\")\n",
    "API_SECRET = os.environ.get(\"B_SECRET_KEY\")\n",
    "binance_client = Client(API_PUBLIC, API_SECRET)\n",
    "\n"
   ]
  },
  {
   "cell_type": "code",
   "execution_count": null,
   "metadata": {},
   "outputs": [],
   "source": [
    "API_PUBLIC"
   ]
  },
  {
   "cell_type": "code",
   "execution_count": null,
   "metadata": {},
   "outputs": [],
   "source": [
    "bm = BinanceSocketManager(client)\n",
    "conn_key = bm.start_trade_socket(\"BNBBTC\", process_message)"
   ]
  },
  {
   "cell_type": "code",
   "execution_count": null,
   "metadata": {},
   "outputs": [],
   "source": []
  },
  {
   "cell_type": "code",
   "execution_count": null,
   "metadata": {},
   "outputs": [],
   "source": []
  },
  {
   "cell_type": "code",
   "execution_count": null,
   "metadata": {},
   "outputs": [],
   "source": []
  },
  {
   "cell_type": "code",
   "execution_count": null,
   "metadata": {},
   "outputs": [],
   "source": []
  },
  {
   "cell_type": "code",
   "execution_count": null,
   "metadata": {},
   "outputs": [],
   "source": [
    "ltc_sym = \"LTCBTC\"\n",
    "eth_sym = \"ETHBTC\"\n",
    "interval = Client.KLINE_INTERVAL_5MINUTE\n",
    "timedelta = dt.timedelta(days=5)\n",
    "eth_df = get_closes(eth_sym, interval, timedelta)\n",
    "ltc_df = get_closes(ltc_sym, interval, timedelta)\n",
    "\n",
    "eth_lr = get_log_returns(eth_df[\"c\"].values)\n",
    "ltc_lr = get_log_returns(ltc_df[\"c\"].values)\n",
    "diff = eth_lr - ltc_lr\n",
    "hedge_ratio = (eth_df[\"c\"]/ltc_df[\"c\"]).values[1:]\n",
    "\n",
    "data = np.stack([eth_lr, ltc_lr, diff, hedge_ratio]).T\n",
    "cols = [\"eth\", \"ltc\", \"diff\", \"hedge_ratio\"]\n",
    "ix = eth_df[\"t1\"].values[1:]\n",
    "df = pd.DataFrame(data=data, columns=cols, index=ix)"
   ]
  },
  {
   "cell_type": "code",
   "execution_count": null,
   "metadata": {},
   "outputs": [],
   "source": [
    "plt.style.use(\"fivethirtyeight\")"
   ]
  },
  {
   "cell_type": "code",
   "execution_count": null,
   "metadata": {},
   "outputs": [],
   "source": [
    "t1 = 10\n",
    "t2 = 50\n",
    "fig, ax1 = plt.subplots(1, 1, sharex=True, figsize=(12,6))\n",
    "linewidth = 3\n",
    "alpha = 1\n",
    "ax1.plot(df.iloc[t1:t2][\"eth\"],linewidth=linewidth, alpha=alpha, label=\"eth\")\n",
    "ax1.plot(df.iloc[t1:t2][\"ltc\"], linewidth=linewidth, alpha=alpha, label=\"ltc\")\n",
    "ax1.plot(df.iloc[t1:t2][\"diff\"], \"--g\", linewidth=linewidth, alpha=alpha, label=\"eth - ltc\")\n",
    "ax1.legend(loc=\"best\")"
   ]
  },
  {
   "cell_type": "markdown",
   "metadata": {},
   "source": [
    "# using pytorch forecasting"
   ]
  },
  {
   "cell_type": "code",
   "execution_count": null,
   "metadata": {},
   "outputs": [],
   "source": [
    "# starting with no covariates\n",
    "zero_data = data"
   ]
  },
  {
   "cell_type": "code",
   "execution_count": null,
   "metadata": {},
   "outputs": [],
   "source": [
    "duration = zero_data.size(-2)\n",
    "\n",
    "prediction = torch.zeros(zero_data.size(0)).unsqueeze(-1)\n",
    "\n",
    "init_dist = dist.Normal(0, 10).expand([1]).to_event(1)\n",
    "\n",
    "time\n",
    "timescale = pyro.sample(\"timescale\", dist.LogNormal(math.log(24), 1))\n",
    "# Note timescale is a scalar but we need a 1x1 transition matrix (hidden_dim=1),\n",
    "# thus we unsqueeze twice using [..., None, None].\n",
    "trans_matrix = torch.exp(-1 / timescale)[..., None, None]\n",
    "trans_scale = pyro.sample(\"trans_scale\", dist.LogNormal(-0.5 * math.log(24), 1))\n",
    "trans_dist = dist.Normal(0, trans_scale.unsqueeze(-1)).to_event(1)\n",
    "\n",
    "# Note the obs_matrix has shape hidden_dim x obs_dim = 1 x 1.\n",
    "obs_matrix = torch.tensor([[1.]])\n",
    "obs_scale = pyro.sample(\"obs_scale\", dist.LogNormal(-2, 1))\n",
    "obs_dist = dist.Normal(0, obs_scale.unsqueeze(-1)).to_event(1)\n",
    "\n",
    "noise_dist = dist.GaussianHMM(\n",
    "    init_dist, trans_matrix, trans_dist, obs_matrix, obs_dist, duration=duration)"
   ]
  },
  {
   "cell_type": "code",
   "execution_count": null,
   "metadata": {},
   "outputs": [],
   "source": [
    "prediction.shape"
   ]
  },
  {
   "cell_type": "code",
   "execution_count": null,
   "metadata": {},
   "outputs": [],
   "source": [
    "timesclae"
   ]
  },
  {
   "cell_type": "code",
   "execution_count": null,
   "metadata": {},
   "outputs": [],
   "source": [
    "class Model1(ForecastingModel):\n",
    "    def model(self, zero_data, covariates):\n",
    "        duration = zero_data.size(-2)\n",
    "        \n",
    "        prediction = torch.zeros(zero_data.size(0)).unsqueeze(-1)\n",
    "\n",
    "        init_dist = dist.Normal(0, 10).expand([1]).to_event(1)\n",
    "\n",
    "        timescale = pyro.sample(\"timescale\", dist.LogNormal(math.log(24), 1))\n",
    "        # Note timescale is a scalar but we need a 1x1 transition matrix (hidden_dim=1),\n",
    "        # thus we unsqueeze twice using [..., None, None].\n",
    "        trans_matrix = torch.exp(-1 / timescale)[..., None, None]\n",
    "        trans_scale = pyro.sample(\"trans_scale\", dist.LogNormal(-0.5 * math.log(24), 1))\n",
    "        trans_dist = dist.Normal(0, trans_scale.unsqueeze(-1)).to_event(1)\n",
    "\n",
    "        # Note the obs_matrix has shape hidden_dim x obs_dim = 1 x 1.\n",
    "        obs_matrix = torch.tensor([[1.]])\n",
    "        obs_scale = pyro.sample(\"obs_scale\", dist.LogNormal(-2, 1))\n",
    "        obs_dist = dist.Normal(0, obs_scale.unsqueeze(-1)).to_event(1)\n",
    "\n",
    "        noise_dist = dist.GaussianHMM(\n",
    "            init_dist, trans_matrix, trans_dist, obs_matrix, obs_dist, duration=duration)\n",
    "        self.predict(noise_dist, prediction)"
   ]
  },
  {
   "cell_type": "code",
   "execution_count": null,
   "metadata": {},
   "outputs": [],
   "source": [
    "data = torch.from_numpy(df[\"eth\"].values).view(-1, 1)\n",
    "covariates = torch.zeros(data.size(0), 0)\n",
    "model = Model1()\n",
    "forecaster = Forecaster(model, data, covariates)"
   ]
  },
  {
   "cell_type": "code",
   "execution_count": null,
   "metadata": {},
   "outputs": [],
   "source": [
    "for name, value in forecaster.guide.median().items():\n",
    "    if value.numel() == 1:\n",
    "        print(\"{} = {:0.4g}\".format(name, value.item()))"
   ]
  },
  {
   "cell_type": "code",
   "execution_count": null,
   "metadata": {},
   "outputs": [],
   "source": []
  },
  {
   "cell_type": "code",
   "execution_count": null,
   "metadata": {},
   "outputs": [],
   "source": []
  },
  {
   "cell_type": "code",
   "execution_count": null,
   "metadata": {},
   "outputs": [],
   "source": []
  }
 ],
 "metadata": {
  "kernelspec": {
   "display_name": "Python 3",
   "language": "python",
   "name": "python3"
  },
  "language_info": {
   "codemirror_mode": {
    "name": "ipython",
    "version": 3
   },
   "file_extension": ".py",
   "mimetype": "text/x-python",
   "name": "python",
   "nbconvert_exporter": "python",
   "pygments_lexer": "ipython3",
   "version": "3.8.5"
  }
 },
 "nbformat": 4,
 "nbformat_minor": 4
}
