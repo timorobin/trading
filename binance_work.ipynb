{
 "cells": [
  {
   "cell_type": "markdown",
   "metadata": {},
   "source": [
    "# Working with Binance API\n",
    "- https://python-binance.readthedocs.io/en/latest/overview.html"
   ]
  },
  {
   "cell_type": "code",
   "execution_count": 1,
   "metadata": {},
   "outputs": [],
   "source": [
    "import datetime as dt\n",
    "import os\n",
    "import numpy as np, pandas as pd, matplotlib.pyplot as plt\n",
    "import dateparser\n",
    "\n",
    "import math\n",
    "import matplotlib.pyplot as plt\n",
    "from binance.client import Client\n",
    "from tqdm import tqdm\n",
    "\n",
    "from trading.websockets.binance import listener\n",
    "from trading.database import data_point, utils"
   ]
  },
  {
   "cell_type": "code",
   "execution_count": 2,
   "metadata": {},
   "outputs": [],
   "source": [
    "DB_NAME = \"trading_data\"\n",
    "utils.connect_to_db(DB_NAME)"
   ]
  },
  {
   "cell_type": "code",
   "execution_count": 3,
   "metadata": {},
   "outputs": [],
   "source": [
    "col = data_point.DataPoint._get_collection()"
   ]
  },
  {
   "cell_type": "code",
   "execution_count": 4,
   "metadata": {},
   "outputs": [],
   "source": [
    "ethbtc_trades = col.find({\"symbol\":\"ETHBTC\", \"event_type\": \"trade\"})"
   ]
  },
  {
   "cell_type": "code",
   "execution_count": 6,
   "metadata": {},
   "outputs": [
    {
     "name": "stderr",
     "output_type": "stream",
     "text": [
      "147068it [00:07, 18882.87it/s]\n"
     ]
    }
   ],
   "source": [
    "trade_data = []\n",
    "for i in tqdm(ethbtc_trades):\n",
    "    trade_data.append(i[\"data\"])"
   ]
  },
  {
   "cell_type": "markdown",
   "metadata": {},
   "source": [
    "# Use this if possible\n",
    "https://www.groundai.com/project/neural-jump-stochastic-differential-equations/1"
   ]
  },
  {
   "cell_type": "code",
   "execution_count": 7,
   "metadata": {},
   "outputs": [
    {
     "data": {
      "text/html": [
       "<div>\n",
       "<style scoped>\n",
       "    .dataframe tbody tr th:only-of-type {\n",
       "        vertical-align: middle;\n",
       "    }\n",
       "\n",
       "    .dataframe tbody tr th {\n",
       "        vertical-align: top;\n",
       "    }\n",
       "\n",
       "    .dataframe thead th {\n",
       "        text-align: right;\n",
       "    }\n",
       "</style>\n",
       "<table border=\"1\" class=\"dataframe\">\n",
       "  <thead>\n",
       "    <tr style=\"text-align: right;\">\n",
       "      <th></th>\n",
       "      <th>trade_id</th>\n",
       "      <th>price</th>\n",
       "      <th>quantity</th>\n",
       "      <th>buy_order_id</th>\n",
       "      <th>sell_order_id</th>\n",
       "      <th>trade_time</th>\n",
       "      <th>limit_buy</th>\n",
       "    </tr>\n",
       "  </thead>\n",
       "  <tbody>\n",
       "    <tr>\n",
       "      <th>0</th>\n",
       "      <td>212101908</td>\n",
       "      <td>0.03232400</td>\n",
       "      <td>1.56700000</td>\n",
       "      <td>1192761289</td>\n",
       "      <td>1192761271</td>\n",
       "      <td>2021-01-05 16:07:39.583</td>\n",
       "      <td>False</td>\n",
       "    </tr>\n",
       "    <tr>\n",
       "      <th>1</th>\n",
       "      <td>212101909</td>\n",
       "      <td>0.03232400</td>\n",
       "      <td>0.43300000</td>\n",
       "      <td>1192761289</td>\n",
       "      <td>1192761279</td>\n",
       "      <td>2021-01-05 16:07:39.583</td>\n",
       "      <td>False</td>\n",
       "    </tr>\n",
       "    <tr>\n",
       "      <th>2</th>\n",
       "      <td>212101910</td>\n",
       "      <td>0.03232300</td>\n",
       "      <td>0.23000000</td>\n",
       "      <td>1192760758</td>\n",
       "      <td>1192761297</td>\n",
       "      <td>2021-01-05 16:07:39.882</td>\n",
       "      <td>True</td>\n",
       "    </tr>\n",
       "    <tr>\n",
       "      <th>3</th>\n",
       "      <td>212101911</td>\n",
       "      <td>0.03232500</td>\n",
       "      <td>7.67400000</td>\n",
       "      <td>1192761318</td>\n",
       "      <td>1192761268</td>\n",
       "      <td>2021-01-05 16:07:40.413</td>\n",
       "      <td>False</td>\n",
       "    </tr>\n",
       "    <tr>\n",
       "      <th>4</th>\n",
       "      <td>212101912</td>\n",
       "      <td>0.03232400</td>\n",
       "      <td>0.42300000</td>\n",
       "      <td>1192761328</td>\n",
       "      <td>1192761322</td>\n",
       "      <td>2021-01-05 16:07:40.719</td>\n",
       "      <td>False</td>\n",
       "    </tr>\n",
       "    <tr>\n",
       "      <th>...</th>\n",
       "      <td>...</td>\n",
       "      <td>...</td>\n",
       "      <td>...</td>\n",
       "      <td>...</td>\n",
       "      <td>...</td>\n",
       "      <td>...</td>\n",
       "      <td>...</td>\n",
       "    </tr>\n",
       "    <tr>\n",
       "      <th>147063</th>\n",
       "      <td>212248971</td>\n",
       "      <td>0.03167800</td>\n",
       "      <td>0.20800000</td>\n",
       "      <td>1194135838</td>\n",
       "      <td>1194135810</td>\n",
       "      <td>2021-01-05 23:39:25.949</td>\n",
       "      <td>False</td>\n",
       "    </tr>\n",
       "    <tr>\n",
       "      <th>147064</th>\n",
       "      <td>212248972</td>\n",
       "      <td>0.03168100</td>\n",
       "      <td>4.49400000</td>\n",
       "      <td>1194135847</td>\n",
       "      <td>1194135788</td>\n",
       "      <td>2021-01-05 23:39:26.056</td>\n",
       "      <td>False</td>\n",
       "    </tr>\n",
       "    <tr>\n",
       "      <th>147065</th>\n",
       "      <td>212248973</td>\n",
       "      <td>0.03167900</td>\n",
       "      <td>0.23700000</td>\n",
       "      <td>1194135850</td>\n",
       "      <td>1194135852</td>\n",
       "      <td>2021-01-05 23:39:26.145</td>\n",
       "      <td>True</td>\n",
       "    </tr>\n",
       "    <tr>\n",
       "      <th>147066</th>\n",
       "      <td>212248974</td>\n",
       "      <td>0.03167900</td>\n",
       "      <td>0.23700000</td>\n",
       "      <td>1194135850</td>\n",
       "      <td>1194135853</td>\n",
       "      <td>2021-01-05 23:39:26.157</td>\n",
       "      <td>True</td>\n",
       "    </tr>\n",
       "    <tr>\n",
       "      <th>147067</th>\n",
       "      <td>212248975</td>\n",
       "      <td>0.03168100</td>\n",
       "      <td>3.20000000</td>\n",
       "      <td>1194135856</td>\n",
       "      <td>1194135788</td>\n",
       "      <td>2021-01-05 23:39:26.275</td>\n",
       "      <td>False</td>\n",
       "    </tr>\n",
       "  </tbody>\n",
       "</table>\n",
       "<p>147068 rows × 7 columns</p>\n",
       "</div>"
      ],
      "text/plain": [
       "         trade_id       price    quantity  buy_order_id  sell_order_id  \\\n",
       "0       212101908  0.03232400  1.56700000    1192761289     1192761271   \n",
       "1       212101909  0.03232400  0.43300000    1192761289     1192761279   \n",
       "2       212101910  0.03232300  0.23000000    1192760758     1192761297   \n",
       "3       212101911  0.03232500  7.67400000    1192761318     1192761268   \n",
       "4       212101912  0.03232400  0.42300000    1192761328     1192761322   \n",
       "...           ...         ...         ...           ...            ...   \n",
       "147063  212248971  0.03167800  0.20800000    1194135838     1194135810   \n",
       "147064  212248972  0.03168100  4.49400000    1194135847     1194135788   \n",
       "147065  212248973  0.03167900  0.23700000    1194135850     1194135852   \n",
       "147066  212248974  0.03167900  0.23700000    1194135850     1194135853   \n",
       "147067  212248975  0.03168100  3.20000000    1194135856     1194135788   \n",
       "\n",
       "                    trade_time  limit_buy  \n",
       "0      2021-01-05 16:07:39.583      False  \n",
       "1      2021-01-05 16:07:39.583      False  \n",
       "2      2021-01-05 16:07:39.882       True  \n",
       "3      2021-01-05 16:07:40.413      False  \n",
       "4      2021-01-05 16:07:40.719      False  \n",
       "...                        ...        ...  \n",
       "147063 2021-01-05 23:39:25.949      False  \n",
       "147064 2021-01-05 23:39:26.056      False  \n",
       "147065 2021-01-05 23:39:26.145       True  \n",
       "147066 2021-01-05 23:39:26.157       True  \n",
       "147067 2021-01-05 23:39:26.275      False  \n",
       "\n",
       "[147068 rows x 7 columns]"
      ]
     },
     "execution_count": 7,
     "metadata": {},
     "output_type": "execute_result"
    }
   ],
   "source": [
    "pd.DataFrame(trade_data)"
   ]
  },
  {
   "cell_type": "code",
   "execution_count": null,
   "metadata": {},
   "outputs": [],
   "source": [
    "col.index_information()"
   ]
  },
  {
   "cell_type": "code",
   "execution_count": null,
   "metadata": {},
   "outputs": [],
   "source": [
    "agg = [\n",
    "    {\n",
    "        \"$group\": {\n",
    "            \"_id\": \"$symbol\",\n",
    "            \"count\": {\"$sum\": 1}\n",
    "        }\n",
    "    }\n",
    "]\n",
    "res = col.aggregate(agg)"
   ]
  },
  {
   "cell_type": "code",
   "execution_count": null,
   "metadata": {},
   "outputs": [],
   "source": [
    "list(res)"
   ]
  },
  {
   "cell_type": "code",
   "execution_count": null,
   "metadata": {},
   "outputs": [],
   "source": []
  }
 ],
 "metadata": {
  "kernelspec": {
   "display_name": "Python 3",
   "language": "python",
   "name": "python3"
  },
  "language_info": {
   "codemirror_mode": {
    "name": "ipython",
    "version": 3
   },
   "file_extension": ".py",
   "mimetype": "text/x-python",
   "name": "python",
   "nbconvert_exporter": "python",
   "pygments_lexer": "ipython3",
   "version": "3.8.5"
  }
 },
 "nbformat": 4,
 "nbformat_minor": 4
}
