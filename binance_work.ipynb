{
 "cells": [
  {
   "cell_type": "markdown",
   "metadata": {},
   "source": [
    "# Working with Binance API\n",
    "- https://python-binance.readthedocs.io/en/latest/overview.html"
   ]
  },
  {
   "cell_type": "code",
   "execution_count": null,
   "metadata": {},
   "outputs": [],
   "source": [
    "import datetime as dt\n",
    "import os\n",
    "import numpy as np, pandas as pd, matplotlib.pyplot as plt\n",
    "import dateparser\n",
    "\n",
    "import math\n",
    "import matplotlib.pyplot as plt\n",
    "\n",
    "from binance.client import Client"
   ]
  },
  {
   "cell_type": "markdown",
   "metadata": {},
   "source": [
    "# making a websocket system that writes to mongo"
   ]
  },
  {
   "cell_type": "code",
   "execution_count": null,
   "metadata": {},
   "outputs": [],
   "source": [
    "import mytrading"
   ]
  },
  {
   "cell_type": "code",
   "execution_count": null,
   "metadata": {},
   "outputs": [],
   "source": [
    "API_PUBLIC = os.environ.get(\"B_PUBLIC_KEY\")\n",
    "API_SECRET = os.environ.get(\"B_SECRET_KEY\")\n",
    "binance_client = Client(API_PUBLIC, API_SECRET)"
   ]
  },
  {
   "cell_type": "code",
   "execution_count": null,
   "metadata": {},
   "outputs": [],
   "source": [
    "import datetime as dt\n",
    "from mongoengine import *\n",
    "\n",
    "class DataPoint(Document):\n",
    "    meta = {\n",
    "        \"collection\": \"datapoints\",\n",
    "        \"indexes\": [\"timestamp\"]\n",
    "    }\n",
    "    timestamp = DateTimeField(required=True)"
   ]
  },
  {
   "cell_type": "code",
   "execution_count": null,
   "metadata": {},
   "outputs": [],
   "source": [
    "from binance.websockets import BinanceSocketManager\n",
    "\n",
    "def open_websocket(client):\n",
    "    bm = BinanceSocketManager(client)\n",
    "    \n",
    "def get_depth_stream_str(symbol, depth=20, update_interval=\"100ms\"):\n",
    "    return f\"{symbol.lower()}@depth@{depth}@{update_interval}\"\n",
    "\n",
    "def process_message(msg):\n",
    "    print(f\"message type: {msg['e']}\")\n",
    "    print(msg)\n",
    "    \n",
    "def process_depth_cache(depth_cache):\n",
    "    print(\"symbol {}\".format(depth_cache.symbol))\n",
    "    print(\"top 5 bids\")\n",
    "    print(depth_cache.get_bids()[:5])\n",
    "    print(\"top 5 asks\")\n",
    "    print(depth_cache.get_asks()[:5])\n",
    "    print(\"last update time {}\".format(depth_cache.update_time))"
   ]
  },
  {
   "cell_type": "code",
   "execution_count": null,
   "metadata": {},
   "outputs": [],
   "source": [
    "eth_sym = \"ETHBTC\"\n",
    "stream_str = get_depth_stream_str(eth_sym)\n",
    "bm = BinanceSocketManager(binance_client)\n",
    "conn_key = bm.start_multiplex_socket([stream_str], process_message)\n",
    "conn_key"
   ]
  },
  {
   "cell_type": "code",
   "execution_count": null,
   "metadata": {},
   "outputs": [],
   "source": [
    "from binance.depthcache import DepthCacheManager\n",
    "dcm1 = DepthCacheManager(binance_client, 'BNBBTC', callback=process_depth_cache, bm=bm, refresh_interval=0.1)"
   ]
  },
  {
   "cell_type": "code",
   "execution_count": null,
   "metadata": {},
   "outputs": [],
   "source": [
    "dcm1.close(close_socket=True)"
   ]
  },
  {
   "cell_type": "code",
   "execution_count": null,
   "metadata": {},
   "outputs": [],
   "source": [
    "bm.start()"
   ]
  },
  {
   "cell_type": "code",
   "execution_count": null,
   "metadata": {},
   "outputs": [],
   "source": [
    "bm.stop_socket(conn_key)\n",
    "bm.close()"
   ]
  },
  {
   "cell_type": "code",
   "execution_count": null,
   "metadata": {},
   "outputs": [],
   "source": [
    "API_PUBLIC = os.environ.get(\"B_PUBLIC_KEY\")\n",
    "API_SECRET = os.environ.get(\"B_SECRET_KEY\")\n",
    "binance_client = Client(API_PUBLIC, API_SECRET)\n",
    "\n"
   ]
  },
  {
   "cell_type": "code",
   "execution_count": null,
   "metadata": {},
   "outputs": [],
   "source": [
    "API_PUBLIC"
   ]
  },
  {
   "cell_type": "code",
   "execution_count": null,
   "metadata": {},
   "outputs": [],
   "source": [
    "bm = BinanceSocketManager(client)\n",
    "conn_key = bm.start_trade_socket(\"BNBBTC\", process_message)"
   ]
  },
  {
   "cell_type": "code",
   "execution_count": null,
   "metadata": {},
   "outputs": [],
   "source": []
  },
  {
   "cell_type": "code",
   "execution_count": null,
   "metadata": {},
   "outputs": [],
   "source": []
  },
  {
   "cell_type": "code",
   "execution_count": null,
   "metadata": {},
   "outputs": [],
   "source": []
  },
  {
   "cell_type": "code",
   "execution_count": null,
   "metadata": {},
   "outputs": [],
   "source": []
  },
  {
   "cell_type": "code",
   "execution_count": null,
   "metadata": {},
   "outputs": [],
   "source": [
    "ltc_sym = \"LTCBTC\"\n",
    "eth_sym = \"ETHBTC\"\n",
    "interval = Client.KLINE_INTERVAL_5MINUTE\n",
    "timedelta = dt.timedelta(days=5)\n",
    "eth_df = get_closes(eth_sym, interval, timedelta)\n",
    "ltc_df = get_closes(ltc_sym, interval, timedelta)\n",
    "\n",
    "eth_lr = get_log_returns(eth_df[\"c\"].values)\n",
    "ltc_lr = get_log_returns(ltc_df[\"c\"].values)\n",
    "diff = eth_lr - ltc_lr\n",
    "hedge_ratio = (eth_df[\"c\"]/ltc_df[\"c\"]).values[1:]\n",
    "\n",
    "data = np.stack([eth_lr, ltc_lr, diff, hedge_ratio]).T\n",
    "cols = [\"eth\", \"ltc\", \"diff\", \"hedge_ratio\"]\n",
    "ix = eth_df[\"t1\"].values[1:]\n",
    "df = pd.DataFrame(data=data, columns=cols, index=ix)"
   ]
  },
  {
   "cell_type": "code",
   "execution_count": null,
   "metadata": {},
   "outputs": [],
   "source": [
    "plt.style.use(\"fivethirtyeight\")"
   ]
  },
  {
   "cell_type": "code",
   "execution_count": null,
   "metadata": {},
   "outputs": [],
   "source": [
    "t1 = 10\n",
    "t2 = 50\n",
    "fig, ax1 = plt.subplots(1, 1, sharex=True, figsize=(12,6))\n",
    "linewidth = 3\n",
    "alpha = 1\n",
    "ax1.plot(df.iloc[t1:t2][\"eth\"],linewidth=linewidth, alpha=alpha, label=\"eth\")\n",
    "ax1.plot(df.iloc[t1:t2][\"ltc\"], linewidth=linewidth, alpha=alpha, label=\"ltc\")\n",
    "ax1.plot(df.iloc[t1:t2][\"diff\"], \"--g\", linewidth=linewidth, alpha=alpha, label=\"eth - ltc\")\n",
    "ax1.legend(loc=\"best\")"
   ]
  },
  {
   "cell_type": "markdown",
   "metadata": {},
   "source": [
    "# using pytorch forecasting"
   ]
  },
  {
   "cell_type": "code",
   "execution_count": null,
   "metadata": {},
   "outputs": [],
   "source": [
    "# starting with no covariates\n",
    "zero_data = data"
   ]
  },
  {
   "cell_type": "code",
   "execution_count": null,
   "metadata": {},
   "outputs": [],
   "source": [
    "duration = zero_data.size(-2)\n",
    "\n",
    "prediction = torch.zeros(zero_data.size(0)).unsqueeze(-1)\n",
    "\n",
    "init_dist = dist.Normal(0, 10).expand([1]).to_event(1)\n",
    "\n",
    "time\n",
    "timescale = pyro.sample(\"timescale\", dist.LogNormal(math.log(24), 1))\n",
    "# Note timescale is a scalar but we need a 1x1 transition matrix (hidden_dim=1),\n",
    "# thus we unsqueeze twice using [..., None, None].\n",
    "trans_matrix = torch.exp(-1 / timescale)[..., None, None]\n",
    "trans_scale = pyro.sample(\"trans_scale\", dist.LogNormal(-0.5 * math.log(24), 1))\n",
    "trans_dist = dist.Normal(0, trans_scale.unsqueeze(-1)).to_event(1)\n",
    "\n",
    "# Note the obs_matrix has shape hidden_dim x obs_dim = 1 x 1.\n",
    "obs_matrix = torch.tensor([[1.]])\n",
    "obs_scale = pyro.sample(\"obs_scale\", dist.LogNormal(-2, 1))\n",
    "obs_dist = dist.Normal(0, obs_scale.unsqueeze(-1)).to_event(1)\n",
    "\n",
    "noise_dist = dist.GaussianHMM(\n",
    "    init_dist, trans_matrix, trans_dist, obs_matrix, obs_dist, duration=duration)"
   ]
  },
  {
   "cell_type": "code",
   "execution_count": null,
   "metadata": {},
   "outputs": [],
   "source": [
    "prediction.shape"
   ]
  },
  {
   "cell_type": "code",
   "execution_count": null,
   "metadata": {},
   "outputs": [],
   "source": [
    "timesclae"
   ]
  },
  {
   "cell_type": "code",
   "execution_count": null,
   "metadata": {},
   "outputs": [],
   "source": [
    "class Model1(ForecastingModel):\n",
    "    def model(self, zero_data, covariates):\n",
    "        duration = zero_data.size(-2)\n",
    "        \n",
    "        prediction = torch.zeros(zero_data.size(0)).unsqueeze(-1)\n",
    "\n",
    "        init_dist = dist.Normal(0, 10).expand([1]).to_event(1)\n",
    "\n",
    "        timescale = pyro.sample(\"timescale\", dist.LogNormal(math.log(24), 1))\n",
    "        # Note timescale is a scalar but we need a 1x1 transition matrix (hidden_dim=1),\n",
    "        # thus we unsqueeze twice using [..., None, None].\n",
    "        trans_matrix = torch.exp(-1 / timescale)[..., None, None]\n",
    "        trans_scale = pyro.sample(\"trans_scale\", dist.LogNormal(-0.5 * math.log(24), 1))\n",
    "        trans_dist = dist.Normal(0, trans_scale.unsqueeze(-1)).to_event(1)\n",
    "\n",
    "        # Note the obs_matrix has shape hidden_dim x obs_dim = 1 x 1.\n",
    "        obs_matrix = torch.tensor([[1.]])\n",
    "        obs_scale = pyro.sample(\"obs_scale\", dist.LogNormal(-2, 1))\n",
    "        obs_dist = dist.Normal(0, obs_scale.unsqueeze(-1)).to_event(1)\n",
    "\n",
    "        noise_dist = dist.GaussianHMM(\n",
    "            init_dist, trans_matrix, trans_dist, obs_matrix, obs_dist, duration=duration)\n",
    "        self.predict(noise_dist, prediction)"
   ]
  },
  {
   "cell_type": "code",
   "execution_count": null,
   "metadata": {},
   "outputs": [],
   "source": [
    "data = torch.from_numpy(df[\"eth\"].values).view(-1, 1)\n",
    "covariates = torch.zeros(data.size(0), 0)\n",
    "model = Model1()\n",
    "forecaster = Forecaster(model, data, covariates)"
   ]
  },
  {
   "cell_type": "code",
   "execution_count": null,
   "metadata": {},
   "outputs": [],
   "source": [
    "for name, value in forecaster.guide.median().items():\n",
    "    if value.numel() == 1:\n",
    "        print(\"{} = {:0.4g}\".format(name, value.item()))"
   ]
  },
  {
   "cell_type": "code",
   "execution_count": null,
   "metadata": {},
   "outputs": [],
   "source": []
  },
  {
   "cell_type": "code",
   "execution_count": null,
   "metadata": {},
   "outputs": [],
   "source": []
  },
  {
   "cell_type": "code",
   "execution_count": null,
   "metadata": {},
   "outputs": [],
   "source": []
  }
 ],
 "metadata": {
  "kernelspec": {
   "display_name": "Python 3",
   "language": "python",
   "name": "python3"
  },
  "language_info": {
   "codemirror_mode": {
    "name": "ipython",
    "version": 3
   },
   "file_extension": ".py",
   "mimetype": "text/x-python",
   "name": "python",
   "nbconvert_exporter": "python",
   "pygments_lexer": "ipython3",
   "version": "3.8.5"
  }
 },
 "nbformat": 4,
 "nbformat_minor": 4
}
