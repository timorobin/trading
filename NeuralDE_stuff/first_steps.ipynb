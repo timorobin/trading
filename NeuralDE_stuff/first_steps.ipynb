{
 "cells": [
  {
   "cell_type": "markdown",
   "metadata": {},
   "source": [
    "# messing around with some neural ode's for stochastic models\n",
    "- Duvenaud paper on Neural SDE's: https://arxiv.org/pdf/2001.01328.pdf\n",
    "- Paper on jump processes with Neural ODE's: https://arxiv.org/abs/1905.10403"
   ]
  },
  {
   "cell_type": "markdown",
   "metadata": {},
   "source": [
    "# using torchsde\n",
    "- https://github.com/google-research/torchsde/blob/master/DOCUMENTATION.md"
   ]
  },
  {
   "cell_type": "markdown",
   "metadata": {},
   "source": [
    "# we fit this \n",
    "dy(t) = f(t, y(t)) dt + g(t, y(t)) dW(t)        y(t0) = y0 "
   ]
  },
  {
   "cell_type": "code",
   "execution_count": 5,
   "metadata": {},
   "outputs": [],
   "source": [
    "import matplotlib.pyplot as plt\n",
    "\n",
    "import torch\n",
    "import torch.nn as nn\n",
    "import torch.nn.functional as F\n",
    "import torch.optim as optim\n",
    "import torchsde"
   ]
  },
  {
   "cell_type": "code",
   "execution_count": 6,
   "metadata": {},
   "outputs": [],
   "source": [
    "batch_size, state_size, brownian_size = 32, 3, 1\n",
    "t_size = 20\n",
    "\n",
    "class SDE(torch.nn.Module):\n",
    "    noise_type = 'diagonal'\n",
    "    sde_type = 'ito'\n",
    "\n",
    "    def __init__(self):\n",
    "        super().__init__()\n",
    "        self.mu = torch.nn.Linear(state_size, \n",
    "                                  state_size)\n",
    "        self.sigma = torch.nn.Linear(state_size, \n",
    "                                     state_size * brownian_size)\n",
    "        self.sigma = torch.nn.Linear(state_size, \n",
    "                                     state_size)\n",
    "\n",
    "    def f(self, t, y):\n",
    "        return self.mu(y)  # shape (batch_size, state_size)\n",
    "\n",
    "    def g(self, t, y):\n",
    "        return self.sigma(y)\n",
    "        return self.sigma(y).view(batch_size, \n",
    "                                  state_size, \n",
    "                                  brownian_size)\n"
   ]
  },
  {
   "cell_type": "code",
   "execution_count": 7,
   "metadata": {},
   "outputs": [],
   "source": [
    "sde = SDE()\n",
    "y0 = torch.full((batch_size, state_size), 0.1)\n",
    "ts = torch.linspace(0, 1, t_size)\n",
    "# # Initial state y0, the SDE is solved over the interval [ts[0], ts[-1]].\n",
    "# # ys will have shape (t_size, batch_size, state_size)"
   ]
  },
  {
   "cell_type": "code",
   "execution_count": 8,
   "metadata": {},
   "outputs": [],
   "source": [
    "ys = torchsde.sdeint_adjoint(sde, y0, ts)"
   ]
  },
  {
   "cell_type": "code",
   "execution_count": 10,
   "metadata": {},
   "outputs": [
    {
     "data": {
      "text/plain": [
       "tensor([[[ 0.1000,  0.1000,  0.1000],\n",
       "         [ 0.1000,  0.1000,  0.1000],\n",
       "         [ 0.1000,  0.1000,  0.1000],\n",
       "         ...,\n",
       "         [ 0.1000,  0.1000,  0.1000],\n",
       "         [ 0.1000,  0.1000,  0.1000],\n",
       "         [ 0.1000,  0.1000,  0.1000]],\n",
       "\n",
       "        [[ 0.1583, -0.0331,  0.1124],\n",
       "         [ 0.2452,  0.1157,  0.0543],\n",
       "         [ 0.2615, -0.0324,  0.0298],\n",
       "         ...,\n",
       "         [ 0.1393,  0.2591,  0.0860],\n",
       "         [ 0.2862,  0.2142, -0.0447],\n",
       "         [ 0.0047, -0.0073,  0.0376]],\n",
       "\n",
       "        [[ 0.2422, -0.1955,  0.0935],\n",
       "         [ 0.2947,  0.2163,  0.0576],\n",
       "         [ 0.2520, -0.0805, -0.2791],\n",
       "         ...,\n",
       "         [ 0.1467,  0.4716, -0.0671],\n",
       "         [ 0.2850,  0.2204, -0.0362],\n",
       "         [ 0.1532, -0.1500,  0.0103]],\n",
       "\n",
       "        ...,\n",
       "\n",
       "        [[-0.2465, -0.7217,  0.1909],\n",
       "         [ 0.2763, -0.4019,  0.4904],\n",
       "         [ 0.6046, -0.4938,  0.1655],\n",
       "         ...,\n",
       "         [ 0.3867,  0.4331, -0.2993],\n",
       "         [-1.8486, -0.1590, -2.6492],\n",
       "         [ 0.6840, -0.4568,  0.2060]],\n",
       "\n",
       "        [[-0.1509, -0.7297,  0.3606],\n",
       "         [ 0.3126, -0.4459,  0.5309],\n",
       "         [ 0.6073, -0.5677,  0.0640],\n",
       "         ...,\n",
       "         [ 0.4357,  0.3619, -0.4061],\n",
       "         [-2.7293,  0.0678, -2.4101],\n",
       "         [ 0.6884, -0.4370,  0.1805]],\n",
       "\n",
       "        [[-0.1325, -0.7623,  0.5171],\n",
       "         [ 0.3110, -0.4249,  0.4492],\n",
       "         [ 0.4701, -0.6111, -0.1266],\n",
       "         ...,\n",
       "         [ 0.3949,  0.3826, -0.4761],\n",
       "         [-2.8878,  0.0189, -1.6118],\n",
       "         [ 0.7605, -0.4433,  0.1507]]], grad_fn=<_SdeintAdjointMethodBackward>)"
      ]
     },
     "execution_count": 10,
     "metadata": {},
     "output_type": "execute_result"
    }
   ],
   "source": [
    "ys"
   ]
  },
  {
   "cell_type": "code",
   "execution_count": null,
   "metadata": {},
   "outputs": [],
   "source": []
  }
 ],
 "metadata": {
  "kernelspec": {
   "display_name": "Python 3",
   "language": "python",
   "name": "python3"
  },
  "language_info": {
   "codemirror_mode": {
    "name": "ipython",
    "version": 3
   },
   "file_extension": ".py",
   "mimetype": "text/x-python",
   "name": "python",
   "nbconvert_exporter": "python",
   "pygments_lexer": "ipython3",
   "version": "3.8.5"
  }
 },
 "nbformat": 4,
 "nbformat_minor": 4
}
