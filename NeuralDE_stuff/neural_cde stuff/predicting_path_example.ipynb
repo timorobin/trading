{
 "cells": [
  {
   "cell_type": "markdown",
   "metadata": {},
   "source": [
    "# same as example in example.ipynb notebook, except we're predicting next few points instead"
   ]
  },
  {
   "cell_type": "code",
   "execution_count": 1,
   "metadata": {},
   "outputs": [],
   "source": [
    "import math\n",
    "import torch\n",
    "import torchcde\n",
    "\n",
    "import matplotlib.pyplot as plt"
   ]
  },
  {
   "cell_type": "markdown",
   "metadata": {},
   "source": [
    "A CDE model looks like\n",
    "\n",
    "$ z_t = z_0 + \\int_0^t f_\\theta(z_s) dX_s $\n",
    "\n",
    "Where $X$ is your data and $f_\\theta$ is a neural network. So the first thing we need to do is define such an $f_\\theta$."
   ]
  },
  {
   "cell_type": "markdown",
   "metadata": {},
   "source": [
    "That's what this CDEFunc class does.\n",
    "Here we've built a small single-hidden-layer neural network, whose hidden layer is of width 128."
   ]
  },
  {
   "cell_type": "code",
   "execution_count": 2,
   "metadata": {},
   "outputs": [],
   "source": [
    "class CDEFunc(torch.nn.Module):\n",
    "    def __init__(self, input_channels, hidden_channels):\n",
    "        ######################\n",
    "        # input_channels is the number of input channels in the data X. (Determined by the data.)\n",
    "        # hidden_channels is the number of channels for z_t. (Determined by you!)\n",
    "        ######################\n",
    "        super(CDEFunc, self).__init__()\n",
    "        self.input_channels = input_channels\n",
    "        self.hidden_channels = hidden_channels\n",
    "\n",
    "        self.linear1 = torch.nn.Linear(hidden_channels, 128)\n",
    "#         self.linear11 = torch.nn.Linear(128, 128)\n",
    "        self.linear2 = torch.nn.Linear(128, input_channels * hidden_channels)\n",
    "        \n",
    "    ######################\n",
    "    # For most purposes the t argument can probably be ignored; unless you want your CDE to behave differently at\n",
    "    # different times, which would be unusual. But it's there if you need it!\n",
    "    ######################\n",
    "    def forward(self, t, z):\n",
    "        # z has shape (batch, hidden_channels)\n",
    "        z = self.linear1(z)\n",
    "        z = z.relu()\n",
    "        \n",
    "#         z = self.linear11(z)\n",
    "#         z = z.relu()\n",
    "        \n",
    "        z = self.linear2(z)\n",
    "        ######################\n",
    "        # Easy-to-forget gotcha: Best results tend to be obtained by adding a final tanh nonlinearity.\n",
    "        ######################\n",
    "        z = z.tanh()\n",
    "        ######################\n",
    "        # Ignoring the batch dimension, the shape of the output tensor must be a matrix,\n",
    "        # because we need it to represent a linear map from R^input_channels to R^hidden_channels.\n",
    "        ######################\n",
    "        z = z.view(z.size(0), self.hidden_channels, self.input_channels)\n",
    "        return z"
   ]
  },
  {
   "cell_type": "markdown",
   "metadata": {},
   "source": [
    "Next, we need to package CDEFunc up into a model that computes the integral."
   ]
  },
  {
   "cell_type": "code",
   "execution_count": 3,
   "metadata": {},
   "outputs": [],
   "source": [
    "class NeuralCDE(torch.nn.Module):\n",
    "    def __init__(self, input_channels, hidden_channels, n_steps):\n",
    "        super(NeuralCDE, self).__init__()\n",
    "        self.input_channels = input_channels\n",
    "        self.hidden_channels = hidden_channels\n",
    "        self.n_steps = n_steps\n",
    "        self.func = CDEFunc(input_channels, hidden_channels)\n",
    "        self.initial = torch.nn.Linear(input_channels, hidden_channels)\n",
    "        self.readout = torch.nn.Linear(hidden_channels, n_steps*input_channels)\n",
    "        \n",
    "    def forward(self, coeffs):\n",
    "#         print(f\"coeffs shape: {coeffs.shape}\")\n",
    "        \n",
    "        X = torchcde.NaturalCubicSpline(coeffs)\n",
    "        \n",
    "        ######################\n",
    "        # Easy to forget gotcha: Initial hidden state should be a function of the first observation.\n",
    "        ######################\n",
    "        X0 = X.evaluate(X.interval[0])\n",
    "#         print(f\"X0 shape: {X0.shape}\")\n",
    "        \n",
    "        z0 = self.initial(X0)\n",
    "#         print(f\"z0 shape: {z0.shape}\")\n",
    "        \n",
    "        ######################\n",
    "        # Actually solve the CDE.\n",
    "        ######################\n",
    "        z_T = torchcde.cdeint(X=X,\n",
    "                              z0=z0,\n",
    "                              func=self.func,\n",
    "                              t=X.interval)\n",
    "        \n",
    "        ######################\n",
    "        # Both the initial value and the terminal value are returned from cdeint; extract just the terminal value,\n",
    "        # and then apply a linear map.\n",
    "        ######################\n",
    "        z_T = z_T[:, 1]\n",
    "#         print(f\"z_T shape: {z_T.shape}\")\n",
    "        \n",
    "        pred_y = self.readout(z_T)\n",
    "        pred_y = pred_y.view(pred_y.size(0), self.n_steps, self.input_channels)\n",
    "#         print(f\"pred_y shape: {pred_y.shape}\")\n",
    "#         return pred_y, z_T\n",
    "        return pred_y"
   ]
  },
  {
   "cell_type": "code",
   "execution_count": 4,
   "metadata": {},
   "outputs": [],
   "source": [
    "######################\n",
    "# Now we need some data.\n",
    "# Here we have a simple example which generates some spirals, some going clockwise, some going anticlockwise.\n",
    "######################\n",
    "def get_data(n_steps_ahead = 5):\n",
    "    t = torch.linspace(0., 4 * math.pi, 100)\n",
    "\n",
    "    start = torch.rand(128) * 2 * math.pi\n",
    "    x_pos = torch.cos(start.unsqueeze(1) + t.unsqueeze(0)) / (1 + 0.5 * t)\n",
    "    x_pos[:64] *= -1\n",
    "    y_pos = torch.sin(start.unsqueeze(1) + t.unsqueeze(0)) / (1 + 0.5 * t)\n",
    "    x_pos += 0.01 * torch.randn_like(x_pos)\n",
    "    y_pos += 0.01 * torch.randn_like(y_pos)\n",
    "    ######################\n",
    "    # Easy to forget gotcha: time should be included as a channel; Neural CDEs need to be explicitly told the\n",
    "    # rate at which time passes. Here, we have a regularly sampled dataset, so appending time is pretty simple.\n",
    "    ######################\n",
    "    X = torch.stack([t.unsqueeze(0).repeat(128, 1), x_pos, y_pos], dim=2)\n",
    "    y = X[:, -n_steps_ahead:, :]\n",
    "#     y = y.view(y.size(0), y.size(1)*y.size(2))\n",
    "    X = X[:, :-n_steps_ahead, :]\n",
    "    \n",
    "    ######################\n",
    "    # X is a tensor of observations, of shape (batch=128, sequence=95, channels=3)\n",
    "    # y is a tensor of labels, of shape (batch=128, sequence=5, channels=3) \n",
    "    ######################\n",
    "    return X, y"
   ]
  },
  {
   "cell_type": "markdown",
   "metadata": {},
   "source": [
    "# main func"
   ]
  },
  {
   "cell_type": "code",
   "execution_count": 5,
   "metadata": {},
   "outputs": [],
   "source": [
    "n_steps_ahead = 10\n",
    "train_X, train_y = get_data(n_steps_ahead)"
   ]
  },
  {
   "cell_type": "code",
   "execution_count": 6,
   "metadata": {},
   "outputs": [],
   "source": [
    "######################\n",
    "# input_channels=3 because we have both the horizontal and vertical position of a point in the spiral, and time.\n",
    "# hidden_channels=8 is the number of hidden channels for the evolving z_t, which we get to choose.\n",
    "# output_channels=3 because we're predicting next five points\n",
    "######################\n",
    "model = NeuralCDE(input_channels=3, hidden_channels=24, n_steps=n_steps_ahead)\n",
    "optimizer = torch.optim.Adam(model.parameters())"
   ]
  },
  {
   "cell_type": "code",
   "execution_count": 7,
   "metadata": {},
   "outputs": [],
   "source": [
    "######################\n",
    "# Now we turn our dataset into a continuous path. We do this here via natural cubic spline interpolation.\n",
    "# The resulting `train_coeffs` is a tensor describing the path.\n",
    "# For most problems, it's probably easiest to save this tensor and treat it as the dataset.\n",
    "######################\n",
    "train_coeffs = torchcde.natural_cubic_coeffs(train_X)"
   ]
  },
  {
   "cell_type": "code",
   "execution_count": 8,
   "metadata": {},
   "outputs": [
    {
     "name": "stdout",
     "output_type": "stream",
     "text": [
      "Epoch: 10   Training loss: 0.7393518090248108\n",
      "Epoch: 20   Training loss: 0.05326348915696144\n",
      "Epoch: 30   Training loss: 0.019472844898700714\n",
      "Epoch: 40   Training loss: 0.01287100836634636\n",
      "Epoch: 50   Training loss: 0.009320485405623913\n",
      "Epoch: 60   Training loss: 0.00725896330550313\n",
      "Epoch: 70   Training loss: 0.005923126358538866\n",
      "Epoch: 80   Training loss: 0.005040875636041164\n",
      "Epoch: 90   Training loss: 0.004383477848023176\n",
      "Epoch: 100   Training loss: 0.003847944550216198\n",
      "Epoch: 110   Training loss: 0.003508341731503606\n",
      "Epoch: 120   Training loss: 0.0034232221078127623\n",
      "Epoch: 130   Training loss: 0.0032504918053746223\n",
      "Epoch: 140   Training loss: 0.002533639781177044\n",
      "Epoch: 150   Training loss: 0.002288159681484103\n",
      "Epoch: 160   Training loss: 0.002063797088339925\n",
      "Epoch: 170   Training loss: 0.0019398212898522615\n",
      "Epoch: 180   Training loss: 0.0019680934492498636\n",
      "Epoch: 190   Training loss: 0.008898443542420864\n",
      "Epoch: 200   Training loss: 0.0017759293550625443\n",
      "Epoch: 210   Training loss: 0.0015572513220831752\n",
      "Epoch: 220   Training loss: 0.001459561288356781\n",
      "Epoch: 230   Training loss: 0.001381181413307786\n",
      "Epoch: 240   Training loss: 0.0013071709545329213\n",
      "Epoch: 250   Training loss: 0.001311510568484664\n"
     ]
    }
   ],
   "source": [
    "num_epochs = 250\n",
    "print_every = 10\n",
    "train_dataset = torch.utils.data.TensorDataset(train_coeffs, train_y)\n",
    "train_dataloader = torch.utils.data.DataLoader(train_dataset, batch_size=32)\n",
    "for epoch in range(1, num_epochs+1):\n",
    "    for batch in train_dataloader:\n",
    "        batch_coeffs, batch_y = batch\n",
    "        pred_y = model(batch_coeffs).squeeze(-1)\n",
    "        loss = torch.nn.functional.mse_loss(pred_y[:, 0:], batch_y[:, 0:])\n",
    "        loss.backward()\n",
    "        optimizer.step()\n",
    "        optimizer.zero_grad()\n",
    "    if epoch%print_every == 0:\n",
    "        print('Epoch: {}   Training loss: {}'.format(epoch, loss.item()))"
   ]
  },
  {
   "cell_type": "code",
   "execution_count": 16,
   "metadata": {},
   "outputs": [],
   "source": [
    "def split_tensor(tensor):\n",
    "    tensor = tensor.detach().numpy()\n",
    "    T, X, Y = tensor[:, 0], tensor[:, 1], tensor[:, 2]\n",
    "    return T, X, Y\n",
    "def plot(x, y, pred_y, ix, three_dim = False):\n",
    "    obs_T, obs_X, obs_Y = split_tensor(x[0])\n",
    "    hid_T, hid_X, hid_Y = split_tensor(y[0])\n",
    "    pred_T, pred_X, pred_Y = split_tensor(pred_y[0])\n",
    "    \n",
    "    fig = plt.figure(figsize=(8,8))\n",
    "    if three_dim:\n",
    "        ax = fig.gca(projection=\"3d\")\n",
    "        ax.scatter(obs_T, obs_X, obs_Y, color=\"blue\", label=\"obs\")\n",
    "        ax.scatter(hid_T, hid_X, hid_Y, color=\"green\", label=\"hidden\")\n",
    "        ax.scatter(pred_T, pred_X, pred_Y, color=\"red\", label=\"predicted\")\n",
    "    else:\n",
    "        ax = fig.gca()\n",
    "        ax.scatter(obs_X, obs_Y, color=\"blue\", label=\"obs\")\n",
    "        ax.scatter(hid_X, hid_Y, color=\"green\", label=\"hidden\")\n",
    "        ax.scatter(pred_X, pred_Y, color=\"red\", label=\"predicted\")\n",
    "    ax.legend()"
   ]
  },
  {
   "cell_type": "code",
   "execution_count": 22,
   "metadata": {},
   "outputs": [
    {
     "data": {
      "image/png": "[encoded data removed]",
      "text/plain": [
       "<Figure size 576x576 with 1 Axes>"
      ]
     },
     "metadata": {
      "needs_background": "light"
     },
     "output_type": "display_data"
    }
   ],
   "source": [
    "ix = 4\n",
    "test_X, test_y = get_data(n_steps_ahead)\n",
    "x = test_X[ix:ix+1, :, :]\n",
    "y = test_y[ix:ix+11, :, :]\n",
    "test_coeffs = torchcde.natural_cubic_coeffs(x)\n",
    "pred_y = model(test_coeffs)\n",
    "\n",
    "plot(x, y, pred_y, ix, three_dim=False)"
   ]
  },
  {
   "cell_type": "code",
   "execution_count": null,
   "metadata": {},
   "outputs": [],
   "source": []
  }
 ],
 "metadata": {
  "kernelspec": {
   "display_name": "Python 3",
   "language": "python",
   "name": "python3"
  },
  "language_info": {
   "codemirror_mode": {
    "name": "ipython",
    "version": 3
   },
   "file_extension": ".py",
   "mimetype": "text/x-python",
   "name": "python",
   "nbconvert_exporter": "python",
   "pygments_lexer": "ipython3",
   "version": "3.8.5"
  }
 },
 "nbformat": 4,
 "nbformat_minor": 4
}
