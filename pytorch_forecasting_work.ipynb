{
 "cells": [
  {
   "cell_type": "markdown",
   "metadata": {},
   "source": [
    "# Working with Binance API\n",
    "- https://python-binance.readthedocs.io/en/latest/overview.html"
   ]
  },
  {
   "cell_type": "code",
   "execution_count": 1,
   "metadata": {},
   "outputs": [],
   "source": [
    "import datetime as dt\n",
    "import os\n",
    "import numpy as np, pandas as pd, matplotlib.pyplot as plt\n",
    "import dateparser\n",
    "import math\n",
    "import matplotlib.pyplot as plt\n",
    "from statsmodels.tsa.stattools import coint\n",
    "from binance.client import Client\n",
    "\n",
    "from trading import utils"
   ]
  },
  {
   "cell_type": "code",
   "execution_count": 2,
   "metadata": {},
   "outputs": [],
   "source": [
    "API_PUBLIC = os.environ.get(\"B_PUBLIC_KEY\")\n",
    "API_SECRET = os.environ.get(\"B_SECRET_KEY\")\n",
    "client = Client(API_PUBLIC, API_SECRET)"
   ]
  },
  {
   "cell_type": "code",
   "execution_count": 17,
   "metadata": {},
   "outputs": [],
   "source": [
    "eth_sym = \"ETHBTC\"\n",
    "trades = pd.DataFrame(client.get_recent_trades(symbol=eth_sym))\n",
    "trades[\"time\"] = trades[\"time\"].astype(str).apply(dateparser.parse)"
   ]
  },
  {
   "cell_type": "code",
   "execution_count": 3,
   "metadata": {},
   "outputs": [
    {
     "ename": "NameError",
     "evalue": "name 'eth_sym' is not defined",
     "output_type": "error",
     "traceback": [
      "\u001b[0;31m---------------------------------------------------------------------------\u001b[0m",
      "\u001b[0;31mNameError\u001b[0m                                 Traceback (most recent call last)",
      "\u001b[0;32m<ipython-input-3-b523f7a6724c>\u001b[0m in \u001b[0;36m<module>\u001b[0;34m\u001b[0m\n\u001b[0;32m----> 1\u001b[0;31m \u001b[0mget_stream_str\u001b[0m\u001b[0;34m(\u001b[0m\u001b[0meth_sym\u001b[0m\u001b[0;34m)\u001b[0m\u001b[0;34m\u001b[0m\u001b[0;34m\u001b[0m\u001b[0m\n\u001b[0m",
      "\u001b[0;31mNameError\u001b[0m: name 'eth_sym' is not defined"
     ]
    }
   ],
   "source": [
    "get_stream_str(eth_sym)"
   ]
  },
  {
   "cell_type": "code",
   "execution_count": 20,
   "metadata": {},
   "outputs": [],
   "source": [
    "lob = client.get_order_book(symbol=eth_sym)"
   ]
  },
  {
   "cell_type": "code",
   "execution_count": 22,
   "metadata": {},
   "outputs": [
    {
     "data": {
      "text/plain": [
       "dict_keys(['lastUpdateId', 'bids', 'asks'])"
      ]
     },
     "execution_count": 22,
     "metadata": {},
     "output_type": "execute_result"
    }
   ],
   "source": [
    "lob.keys()"
   ]
  },
  {
   "cell_type": "code",
   "execution_count": 23,
   "metadata": {},
   "outputs": [
    {
     "data": {
      "text/plain": [
       "2079154232"
      ]
     },
     "execution_count": 23,
     "metadata": {},
     "output_type": "execute_result"
    }
   ],
   "source": [
    "lob[\"lastUpdateId\"]"
   ]
  },
  {
   "cell_type": "code",
   "execution_count": 16,
   "metadata": {},
   "outputs": [
    {
     "data": {
      "text/plain": [
       "{'symbol': 'ETHBTC',\n",
       " 'bidPrice': '0.02787000',\n",
       " 'bidQty': '23.86000000',\n",
       " 'askPrice': '0.02787300',\n",
       " 'askQty': '1.23100000'}"
      ]
     },
     "execution_count": 16,
     "metadata": {},
     "output_type": "execute_result"
    }
   ],
   "source": [
    "client.get_orderbook_ticker(symbol=eth_sym)"
   ]
  },
  {
   "cell_type": "code",
   "execution_count": 24,
   "metadata": {},
   "outputs": [],
   "source": [
    "from binance.websockets import BinanceSocketManager"
   ]
  },
  {
   "cell_type": "code",
   "execution_count": 26,
   "metadata": {},
   "outputs": [],
   "source": [
    "def process_message(msg):\n",
    "    print(\"message type: {}\".format(msg['e']))\n",
    "    print(msg)"
   ]
  },
  {
   "cell_type": "code",
   "execution_count": 27,
   "metadata": {},
   "outputs": [],
   "source": [
    "bm = BinanceSocketManager(client)\n",
    "conn_key = bm.start_trade_socket(\"BNBBTC\", process_message)"
   ]
  },
  {
   "cell_type": "code",
   "execution_count": 28,
   "metadata": {},
   "outputs": [
    {
     "name": "stdout",
     "output_type": "stream",
     "text": [
      "message type: trade\n",
      "{'e': 'trade', 'E': 1609703440436, 's': 'BNBBTC', 't': 98645283, 'p': '0.00123630', 'q': '1.51000000', 'b': 646330065, 'a': 646330071, 'T': 1609703440435, 'm': True, 'M': True}\n",
      "message type: trade\n",
      "{'e': 'trade', 'E': 1609703440436, 's': 'BNBBTC', 't': 98645284, 'p': '0.00123590', 'q': '3.94000000', 'b': 646330060, 'a': 646330071, 'T': 1609703440435, 'm': True, 'M': True}\n",
      "message type: trade\n",
      "{'e': 'trade', 'E': 1609703447402, 's': 'BNBBTC', 't': 98645285, 'p': '0.00123620', 'q': '1.00000000', 'b': 646330094, 'a': 646330159, 'T': 1609703447401, 'm': True, 'M': True}\n",
      "message type: trade\n",
      "{'e': 'trade', 'E': 1609703447402, 's': 'BNBBTC', 't': 98645286, 'p': '0.00123620', 'q': '6.98000000', 'b': 646330121, 'a': 646330159, 'T': 1609703447401, 'm': True, 'M': True}\n",
      "message type: trade\n",
      "{'e': 'trade', 'E': 1609703455145, 's': 'BNBBTC', 't': 98645287, 'p': '0.00123580', 'q': '1.56000000', 'b': 646330271, 'a': 646330192, 'T': 1609703455144, 'm': False, 'M': True}\n",
      "message type: trade\n",
      "{'e': 'trade', 'E': 1609703455145, 's': 'BNBBTC', 't': 98645288, 'p': '0.00123580', 'q': '2.07000000', 'b': 646330271, 'a': 646330270, 'T': 1609703455144, 'm': False, 'M': True}\n",
      "message type: trade\n",
      "{'e': 'trade', 'E': 1609703459969, 's': 'BNBBTC', 't': 98645289, 'p': '0.00123620', 'q': '0.12000000', 'b': 646330323, 'a': 646330309, 'T': 1609703459968, 'm': False, 'M': True}\n",
      "message type: trade\n",
      "{'e': 'trade', 'E': 1609703459983, 's': 'BNBBTC', 't': 98645290, 'p': '0.00123620', 'q': '0.21000000', 'b': 646330324, 'a': 646330309, 'T': 1609703459982, 'm': False, 'M': True}\n",
      "message type: trade\n",
      "{'e': 'trade', 'E': 1609703460014, 's': 'BNBBTC', 't': 98645291, 'p': '0.00123620', 'q': '0.21000000', 'b': 646330325, 'a': 646330309, 'T': 1609703460013, 'm': False, 'M': True}\n",
      "message type: trade\n",
      "{'e': 'trade', 'E': 1609703462395, 's': 'BNBBTC', 't': 98645292, 'p': '0.00123600', 'q': '4.50000000', 'b': 646330366, 'a': 646330355, 'T': 1609703462395, 'm': False, 'M': True}\n",
      "message type: trade\n",
      "{'e': 'trade', 'E': 1609703466747, 's': 'BNBBTC', 't': 98645293, 'p': '0.00123640', 'q': '1.00000000', 'b': 646330419, 'a': 646330373, 'T': 1609703466746, 'm': False, 'M': True}\n",
      "message type: trade\n",
      "{'e': 'trade', 'E': 1609703466747, 's': 'BNBBTC', 't': 98645294, 'p': '0.00123650', 'q': '0.09000000', 'b': 646330419, 'a': 646330054, 'T': 1609703466746, 'm': False, 'M': True}\n",
      "message type: trade\n",
      "{'e': 'trade', 'E': 1609703466747, 's': 'BNBBTC', 't': 98645295, 'p': '0.00123650', 'q': '1.76000000', 'b': 646330419, 'a': 646330406, 'T': 1609703466746, 'm': False, 'M': True}\n",
      "message type: trade\n",
      "{'e': 'trade', 'E': 1609703466747, 's': 'BNBBTC', 't': 98645296, 'p': '0.00123680', 'q': '3.49000000', 'b': 646330419, 'a': 646330249, 'T': 1609703466746, 'm': False, 'M': True}\n",
      "message type: trade\n",
      "{'e': 'trade', 'E': 1609703466747, 's': 'BNBBTC', 't': 98645297, 'p': '0.00123680', 'q': '3.66000000', 'b': 646330419, 'a': 646330266, 'T': 1609703466746, 'm': False, 'M': True}\n",
      "message type: trade\n",
      "{'e': 'trade', 'E': 1609703469954, 's': 'BNBBTC', 't': 98645298, 'p': '0.00123660', 'q': '1.56000000', 'b': 646330451, 'a': 646330458, 'T': 1609703469953, 'm': True, 'M': True}\n",
      "message type: trade\n",
      "{'e': 'trade', 'E': 1609703470857, 's': 'BNBBTC', 't': 98645299, 'p': '0.00123670', 'q': '0.12000000', 'b': 646330476, 'a': 646330421, 'T': 1609703470856, 'm': False, 'M': True}\n",
      "message type: trade\n",
      "{'e': 'trade', 'E': 1609703471495, 's': 'BNBBTC', 't': 98645300, 'p': '0.00123660', 'q': '5.29000000', 'b': 646330451, 'a': 646330483, 'T': 1609703471494, 'm': True, 'M': True}\n",
      "message type: trade\n",
      "{'e': 'trade', 'E': 1609703471507, 's': 'BNBBTC', 't': 98645301, 'p': '0.00123660', 'q': '12.37000000', 'b': 646330451, 'a': 646330484, 'T': 1609703471506, 'm': True, 'M': True}\n",
      "message type: trade\n",
      "{'e': 'trade', 'E': 1609703471522, 's': 'BNBBTC', 't': 98645302, 'p': '0.00123660', 'q': '1.56000000', 'b': 646330451, 'a': 646330485, 'T': 1609703471521, 'm': True, 'M': True}\n",
      "message type: trade\n",
      "{'e': 'trade', 'E': 1609703472519, 's': 'BNBBTC', 't': 98645303, 'p': '0.00123600', 'q': '0.09000000', 'b': 646330509, 'a': 646330510, 'T': 1609703472518, 'm': True, 'M': True}\n",
      "message type: trade\n",
      "{'e': 'trade', 'E': 1609703473936, 's': 'BNBBTC', 't': 98645304, 'p': '0.00123590', 'q': '0.38000000', 'b': 646330516, 'a': 646330522, 'T': 1609703473935, 'm': True, 'M': True}\n",
      "message type: trade\n",
      "{'e': 'trade', 'E': 1609703477016, 's': 'BNBBTC', 't': 98645305, 'p': '0.00123620', 'q': '4.30000000', 'b': 646330566, 'a': 646330567, 'T': 1609703477016, 'm': True, 'M': True}\n",
      "message type: trade\n",
      "{'e': 'trade', 'E': 1609703477742, 's': 'BNBBTC', 't': 98645306, 'p': '0.00123570', 'q': '1.53000000', 'b': 646330570, 'a': 646330577, 'T': 1609703477742, 'm': True, 'M': True}\n"
     ]
    }
   ],
   "source": [
    "bm.start()"
   ]
  },
  {
   "cell_type": "code",
   "execution_count": 30,
   "metadata": {},
   "outputs": [],
   "source": [
    "bm.stop_socket(conn_key)\n",
    "bm.close()\n"
   ]
  },
  {
   "cell_type": "code",
   "execution_count": null,
   "metadata": {},
   "outputs": [],
   "source": [
    "ltc_sym = \"LTCBTC\"\n",
    "eth_sym = \"ETHBTC\"\n",
    "interval = Client.KLINE_INTERVAL_1MINUTE\n",
    "timedelta = dt.timedelta(days=14)\n",
    "# eth_df = get_closes(client, eth_sym, interval, timedelta)\n",
    "# ltc_df = get_closes(client, ltc_sym, interval, timedelta)\n",
    "# eth_df.to_csv(\"data/ethbtc_1min.csv\")\n",
    "# ltc_df.to_csv(\"data/ltcbtc_1min.csv\")\n",
    "\n",
    "eth_df = pd.read_csv(\"data/ethbtc_1min.csv\")\n",
    "ltc_df = pd.read_csv(\"data/ltcbtc_1min.csv\")\n",
    "\n",
    "eth_lr = get_log_returns(eth_df[\"c\"].values)\n",
    "ltc_lr = get_log_returns(ltc_df[\"c\"].values)\n",
    "lr_diff = eth_lr - ltc_lr\n",
    "hedge_ratio = (eth_df[\"c\"]/ltc_df[\"c\"]).values[1:]\n",
    "\n",
    "data = np.stack([eth_df[\"c\"].values[1:], eth_lr, ltc_df[\"c\"].values[1:], ltc_lr, lr_diff, hedge_ratio]).T\n",
    "cols = [\"eth\", \"eth_lr\", \"ltc\", \"ltc_lr\", \"lr_diff\", \"hedge_ratio\"]\n",
    "ix = eth_df[\"t1\"].values[1:]\n",
    "df = pd.DataFrame(data=data, columns=cols, index=ix)\n",
    "df[\"time_idx\"] = list(range(len(df)))"
   ]
  },
  {
   "cell_type": "code",
   "execution_count": null,
   "metadata": {},
   "outputs": [],
   "source": [
    "t1 = 40\n",
    "t2 = 60\n",
    "fig1, [ax1, ax2, ax3] = plt.subplots(3, 1, sharex=True, figsize=(12,9))\n",
    "linewidth = 3\n",
    "alpha = 1\n",
    "ax1.plot(df.iloc[t1:t2][\"eth\"],linewidth=linewidth, alpha=alpha, label=\"eth\")\n",
    "ax2.plot(df.iloc[t1:t2][\"ltc\"], linewidth=linewidth, alpha=alpha, label=\"ltc\")\n",
    "ax3.plot(df.iloc[t1:t2][\"lr_diff\"], \"--g\", linewidth=linewidth, alpha=alpha, label=\"eth - ltc\")\n",
    "fig1.legend()"
   ]
  },
  {
   "cell_type": "code",
   "execution_count": null,
   "metadata": {},
   "outputs": [],
   "source": [
    "t1 = 40\n",
    "t2 = 60\n",
    "fig2, ax1 = plt.subplots(1, 1, sharex=True, figsize=(12,6))\n",
    "linewidth = 3\n",
    "alpha = 1\n",
    "ax1.plot(df.iloc[t1:t2][\"eth_lr\"],linewidth=linewidth, alpha=alpha, label=\"eth\")\n",
    "ax1.plot(df.iloc[t1:t2][\"ltc_lr\"], linewidth=linewidth, alpha=alpha, label=\"ltc\")\n",
    "ax1.plot(df.iloc[t1:t2][\"lr_diff\"], \"--g\", linewidth=linewidth, alpha=alpha, label=\"eth - ltc\")\n",
    "ax1.legend(loc=\"best\")"
   ]
  },
  {
   "cell_type": "code",
   "execution_count": null,
   "metadata": {},
   "outputs": [],
   "source": [
    "df[[\"eth\", \"ltc\"]].rolling(7).std()"
   ]
  },
  {
   "cell_type": "markdown",
   "metadata": {},
   "source": [
    "# using pytorch forecasting"
   ]
  },
  {
   "cell_type": "code",
   "execution_count": null,
   "metadata": {},
   "outputs": [],
   "source": [
    "import pytorch_lightning as pl\n",
    "from pytorch_lightning.callbacks import EarlyStopping\n",
    "import torch\n",
    "\n",
    "from pytorch_forecasting import Baseline, NBeats, TimeSeriesDataSet, DeepAR, TemporalFusionTransformer\n",
    "from pytorch_forecasting.data import NaNLabelEncoder, TorchNormalizer\n",
    "from pytorch_forecasting.data.examples import generate_ar_data\n",
    "from pytorch_forecasting.metrics import SMAPE, NormalDistributionLoss, QuantileLoss"
   ]
  },
  {
   "cell_type": "markdown",
   "metadata": {},
   "source": [
    "# build dataset"
   ]
  },
  {
   "cell_type": "code",
   "execution_count": null,
   "metadata": {},
   "outputs": [],
   "source": [
    "ddf = df[[\"eth\", \"ltc\", \"lr_diff\", \"time_idx\"]]\n",
    "ddf = ddf.set_index(\"time_idx\").reset_index()\n",
    "ddf[\"group\"] = 0\n",
    "ddf"
   ]
  },
  {
   "cell_type": "code",
   "execution_count": null,
   "metadata": {},
   "outputs": [],
   "source": [
    "coint_t, p_value, crit_value = coint(ddf[\"eth\"].values, ddf[\"ltc\"].values)\n",
    "coint_t, p_value, crit_value"
   ]
  },
  {
   "cell_type": "code",
   "execution_count": null,
   "metadata": {},
   "outputs": [],
   "source": [
    "ddf"
   ]
  },
  {
   "cell_type": "code",
   "execution_count": null,
   "metadata": {},
   "outputs": [],
   "source": [
    "a=TorchNormalizer(method=\"identity\")"
   ]
  },
  {
   "cell_type": "code",
   "execution_count": null,
   "metadata": {},
   "outputs": [],
   "source": [
    "a.fit(ddf[\"eth\"])"
   ]
  },
  {
   "cell_type": "code",
   "execution_count": null,
   "metadata": {},
   "outputs": [],
   "source": []
  },
  {
   "cell_type": "code",
   "execution_count": null,
   "metadata": {},
   "outputs": [],
   "source": [
    "# start with just eth returns\n",
    "ddf = df[[\"eth\", \"ltc\", \"lr_diff\", \"time_idx\"]]\n",
    "ddf = ddf.set_index(\"time_idx\").reset_index()\n",
    "ddf[\"group\"] = 0\n",
    "\n",
    "context_length = 45\n",
    "prediction_length = 3\n",
    "training_cutoff = ddf[\"time_idx\"].max() - prediction_length\n",
    "\n",
    "train_tsds = TimeSeriesDataSet(\n",
    "    ddf[ddf[\"time_idx\"] <= training_cutoff],\n",
    "    time_idx = \"time_idx\",\n",
    "    target = \"lr_diff\",\n",
    "    categorical_encoders={\"group\": NaNLabelEncoder().fit(ddf.group)},\n",
    "    group_ids = [\"group\"],\n",
    "    time_varying_unknown_reals=[\"eth\", \"ltc\", \"lr_diff\"],\n",
    "    max_encoder_length=context_length,\n",
    "    max_prediction_length=prediction_length,\n",
    "    target_normalizer=None,\n",
    "    add_relative_time_idx=True,\n",
    "    scalers = {\n",
    "        \"eth\": None, \n",
    "        \"ltc\": None\n",
    "    }\n",
    ")\n",
    "val_tsds = TimeSeriesDataSet.from_dataset(train_tsds, ddf, min_prediction_idx=training_cutoff + 1)\n",
    "\n",
    "batch_size = 128\n",
    "train_dataloader = train_tsds.to_dataloader(train=True, batch_size=batch_size, num_workers=0)\n",
    "val_dataloader = val_tsds.to_dataloader(train=False, batch_size=batch_size, num_workers=0)"
   ]
  },
  {
   "cell_type": "code",
   "execution_count": null,
   "metadata": {},
   "outputs": [],
   "source": [
    "train_tsds.get_parameters()"
   ]
  },
  {
   "cell_type": "markdown",
   "metadata": {},
   "source": [
    "# Start model building"
   ]
  },
  {
   "cell_type": "code",
   "execution_count": null,
   "metadata": {},
   "outputs": [],
   "source": [
    "# calculate baseline absolute error\n",
    "actuals = torch.cat([y[0] for x, y in iter(val_dataloader)])\n",
    "baseline_predictions = Baseline().predict(val_dataloader)\n",
    "SMAPE()(baseline_predictions, actuals.view(1,-1))"
   ]
  },
  {
   "cell_type": "code",
   "execution_count": null,
   "metadata": {},
   "outputs": [],
   "source": [
    "pl.seed_everything(42)\n",
    "trainer = pl.Trainer(gpus=0, gradient_clip_val=0.1)\n",
    "\n",
    "model_hyper_params = {\n",
    "    \"learning_rate\": 3e-2,\n",
    "    \"hidden_size\": 16,\n",
    "    \"lstm_layers\": 2,\n",
    "    \"attention_head_size\": 4,\n",
    "    \"output_size\": 7,\n",
    "    \"loss\": QuantileLoss(),\n",
    "    \"time_varying_reals_encoder\": [\"eth\", \"lr_diff\", \"ltc\"]\n",
    "}\n",
    "net = TemporalFusionTransformer.from_dataset(\n",
    "    train_tsds, \n",
    "    **model_hyper_params\n",
    ")"
   ]
  },
  {
   "cell_type": "code",
   "execution_count": null,
   "metadata": {},
   "outputs": [],
   "source": [
    "# net.summarize(\"full\")\n",
    "# net.hparams"
   ]
  },
  {
   "cell_type": "code",
   "execution_count": null,
   "metadata": {},
   "outputs": [],
   "source": [
    "# find optimal learning rate\n",
    "res = trainer.tuner.lr_find(net, train_dataloader=train_dataloader, val_dataloaders=val_dataloader, min_lr=1e-5)\n",
    "print(f\"suggested learning rate: {res.suggestion()}\")\n",
    "fig = res.plot(show=True, suggest=True)\n",
    "fig.show()\n",
    "net.hparams.learning_rate = res.suggestion()"
   ]
  },
  {
   "cell_type": "code",
   "execution_count": null,
   "metadata": {},
   "outputs": [],
   "source": [
    "early_stop_callback = EarlyStopping(monitor=\"val_loss\", min_delta=1e-4, patience=10, verbose=False, mode=\"min\")\n",
    "trainer = pl.Trainer(\n",
    "    max_epochs=50,\n",
    "    gpus=0,\n",
    "    weights_summary=\"top\",\n",
    "    gradient_clip_val=0.1,\n",
    "    callbacks=[early_stop_callback],\n",
    "    limit_train_batches=30,\n",
    ")\n",
    "\n",
    "trainer.fit(\n",
    "    net,\n",
    "    train_dataloader=train_dataloader,\n",
    "    val_dataloaders=val_dataloader,\n",
    ")"
   ]
  },
  {
   "cell_type": "code",
   "execution_count": null,
   "metadata": {},
   "outputs": [],
   "source": [
    "best_model_path = trainer.checkpoint_callback.best_model_path\n",
    "best_model = TemporalFusionTransformer.load_from_checkpoint(best_model_path)"
   ]
  },
  {
   "cell_type": "code",
   "execution_count": null,
   "metadata": {},
   "outputs": [],
   "source": [
    "actuals = torch.cat([y[0] for x, y in iter(val_dataloader)])\n",
    "predictions = best_model.predict(val_dataloader)\n",
    "(actuals - predictions).abs().mean()"
   ]
  },
  {
   "cell_type": "code",
   "execution_count": null,
   "metadata": {},
   "outputs": [],
   "source": [
    "raw_predictions, x = best_model.predict(val_dataloader, mode=\"raw\", return_x=True)"
   ]
  },
  {
   "cell_type": "code",
   "execution_count": null,
   "metadata": {},
   "outputs": [],
   "source": [
    "best_model.plot_prediction(x, raw_predictions, idx=0, add_loss_to_title=True);"
   ]
  },
  {
   "cell_type": "code",
   "execution_count": null,
   "metadata": {},
   "outputs": [],
   "source": [
    "predictions, x = best_model.predict(train_dataloader, return_x=True)\n",
    "predictions_vs_actuals = best_model.calculate_prediction_actual_by_variable(x, predictions)\n",
    "best_model.plot_prediction_actual_by_variable(predictions_vs_actuals);"
   ]
  },
  {
   "cell_type": "code",
   "execution_count": null,
   "metadata": {},
   "outputs": [],
   "source": [
    "interpretation = best_model.interpret_output(raw_predictions, reduction=\"sum\")\n",
    "best_model.plot_interpretation(interpretation)"
   ]
  },
  {
   "cell_type": "code",
   "execution_count": null,
   "metadata": {},
   "outputs": [],
   "source": [
    "dependency = best_model.predict_dependency(\n",
    "    val_dataloader.dataset, \"eth\", np.linspace(0, 30, 30), show_progress_bar=True, mode=\"dataframe\"\n",
    ")"
   ]
  },
  {
   "cell_type": "code",
   "execution_count": null,
   "metadata": {},
   "outputs": [],
   "source": [
    "# plotting median and 25% and 75% percentile\n",
    "agg_dependency = dependency.groupby(\"eth\").normalized_prediction.agg(\n",
    "    median=\"median\", q25=lambda x: x.quantile(0.25), q75=lambda x: x.quantile(0.75)\n",
    ")\n",
    "ax = agg_dependency.plot(y=\"median\")\n",
    "ax.fill_between(agg_dependency.index, agg_dependency.q25, agg_dependency.q75, alpha=0.3);"
   ]
  },
  {
   "cell_type": "code",
   "execution_count": null,
   "metadata": {},
   "outputs": [],
   "source": []
  }
 ],
 "metadata": {
  "kernelspec": {
   "display_name": "Python 3",
   "language": "python",
   "name": "python3"
  },
  "language_info": {
   "codemirror_mode": {
    "name": "ipython",
    "version": 3
   },
   "file_extension": ".py",
   "mimetype": "text/x-python",
   "name": "python",
   "nbconvert_exporter": "python",
   "pygments_lexer": "ipython3",
   "version": "3.8.5"
  }
 },
 "nbformat": 4,
 "nbformat_minor": 4
}
